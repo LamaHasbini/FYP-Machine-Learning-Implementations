{
 "cells": [
  {
   "cell_type": "code",
   "execution_count": 4,
   "metadata": {},
   "outputs": [],
   "source": [
    "import os\n",
    "import glob\n",
    "import re\n",
    "import matplotlib.pyplot as plt\n",
    "import seaborn as sns\n",
    "import numpy as np\n",
    "import pandas as pd\n",
    "\n",
    "from sklearn.ensemble import RandomForestClassifier\n",
    "from sklearn.model_selection import train_test_split, GridSearchCV\n",
    "from sklearn.preprocessing import LabelEncoder\n",
    "from sklearn.metrics import classification_report, confusion_matrix\n",
    "from imblearn.over_sampling import SMOTE\n",
    "from scipy.stats import mode, entropy\n",
    "from scipy.linalg import svd"
   ]
  },
  {
   "cell_type": "markdown",
   "metadata": {},
   "source": [
    "## Attempt 1: Simple"
   ]
  },
  {
   "cell_type": "code",
   "execution_count": 3,
   "metadata": {},
   "outputs": [],
   "source": [
    "data_directory = '/Users/lamahasbini/Library/CloudStorage/OneDrive-AmericanUniversityofBeirut/FYP 2024-25 ECE/FYP_Fall_2024-2025/ML Implementation/EDA Analysis Input Files'\n",
    "combined_df = pd.DataFrame()\n",
    "\n",
    "for file in os.listdir(data_directory):\n",
    "    if file.endswith('.xlsx'):\n",
    "        file_path = os.path.join(data_directory, file)\n",
    "        temp = pd.read_excel(file_path, sheet_name='Sheet3')\n",
    "        parts = file.replace('.xlsx', '').split('_')\n",
    "        if len(parts) >= 3 and parts[-1] == \"new\":\n",
    "            patient_id = f\"{parts[-3]}_{parts[-2]}\"\n",
    "        else:\n",
    "            patient_id = f\"{parts[-2]}_{parts[-1]}\"\n",
    "        \n",
    "        temp['Patient_ID'] = patient_id  \n",
    "        combined_df = pd.concat([combined_df, temp], ignore_index=True)"
   ]
  },
  {
   "cell_type": "code",
   "execution_count": 4,
   "metadata": {},
   "outputs": [],
   "source": [
    "combined_df['Sleep_stage'] = combined_df['Sleep_stage'].astype(str)\n",
    "combined_df['Sleep_stage'] = combined_df['Sleep_stage'].replace('3', '2')\n",
    "combined_df['Sleep_stage'] = combined_df['Sleep_stage'].replace('r', 'R')"
   ]
  },
  {
   "cell_type": "code",
   "execution_count": 5,
   "metadata": {},
   "outputs": [
    {
     "name": "stdout",
     "output_type": "stream",
     "text": [
      "   Onset_EEG Sleep_stage            Date_EEG  EDR_count      Date_E4_synced  \\\n",
      "0   26759.25           1 2017-07-14 22:47:39          0 2017-07-14 22:46:10   \n",
      "1   26788.25           W 2017-07-14 22:48:08          0 2017-07-14 22:46:39   \n",
      "2   26818.25           W 2017-07-14 22:48:38          0 2017-07-14 22:47:09   \n",
      "3   26848.25           W 2017-07-14 22:49:08          0 2017-07-14 22:47:39   \n",
      "4   26878.25           W 2017-07-14 22:49:38          0 2017-07-14 22:48:09   \n",
      "\n",
      "   Storm_mark  Epoch duration  Epoch duration (rounded)  \\\n",
      "0           0       29.000004                      29.0   \n",
      "1           0       29.999998                      30.0   \n",
      "2           0       29.999998                      30.0   \n",
      "3           0       29.999998                      30.0   \n",
      "4           0       29.000004                      29.0   \n",
      "\n",
      "   Average EDA per epoch Patient_ID  \n",
      "0               0.114790     P31_LW  \n",
      "1               0.109703     P31_LW  \n",
      "2               0.106686     P31_LW  \n",
      "3               0.106652     P31_LW  \n",
      "4               0.106305     P31_LW  \n",
      "Total records combined: 46128\n"
     ]
    }
   ],
   "source": [
    "print(combined_df.head())  \n",
    "print(f\"Total records combined: {len(combined_df)}\")"
   ]
  },
  {
   "cell_type": "code",
   "execution_count": 6,
   "metadata": {},
   "outputs": [
    {
     "data": {
      "text/plain": [
       "Onset_EEG                     0\n",
       "Sleep_stage                   0\n",
       "Date_EEG                      0\n",
       "EDR_count                     0\n",
       "Date_E4_synced                0\n",
       "Storm_mark                    0\n",
       "Epoch duration               49\n",
       "Epoch duration (rounded)     49\n",
       "Average EDA per epoch       423\n",
       "Patient_ID                    0\n",
       "dtype: int64"
      ]
     },
     "execution_count": 6,
     "metadata": {},
     "output_type": "execute_result"
    }
   ],
   "source": [
    "combined_df.isnull().sum()"
   ]
  },
  {
   "cell_type": "code",
   "execution_count": 7,
   "metadata": {},
   "outputs": [],
   "source": [
    "combined_df = combined_df.dropna()"
   ]
  },
  {
   "cell_type": "code",
   "execution_count": 8,
   "metadata": {},
   "outputs": [
    {
     "name": "stdout",
     "output_type": "stream",
     "text": [
      "       EDR_count  Storm_mark  Epoch duration  Epoch duration (rounded)  \\\n",
      "0              0           0       29.000004                      29.0   \n",
      "1              0           0       29.999998                      30.0   \n",
      "2              0           0       29.999998                      30.0   \n",
      "3              0           0       29.999998                      30.0   \n",
      "4              0           0       29.000004                      29.0   \n",
      "...          ...         ...             ...                       ...   \n",
      "46122          0           0       29.000004                      29.0   \n",
      "46123          0           0       29.999998                      30.0   \n",
      "46124          0           0       29.999998                      30.0   \n",
      "46125          0           0       29.999998                      30.0   \n",
      "46126          0           0       29.000004                      29.0   \n",
      "\n",
      "       Average EDA per epoch  Date_E4_synced_hour  \n",
      "0                   0.114790                   22  \n",
      "1                   0.109703                   22  \n",
      "2                   0.106686                   22  \n",
      "3                   0.106652                   22  \n",
      "4                   0.106305                   22  \n",
      "...                      ...                  ...  \n",
      "46122               0.328231                    8  \n",
      "46123               0.328325                    8  \n",
      "46124               0.329665                    8  \n",
      "46125               0.332353                    8  \n",
      "46126               0.332331                    8  \n",
      "\n",
      "[45705 rows x 6 columns]\n"
     ]
    }
   ],
   "source": [
    "X = combined_df.drop(['Sleep_stage', 'Onset_EEG', 'Date_EEG', 'Patient_ID'], axis=1)\n",
    "X['Date_E4_synced_hour'] = X['Date_E4_synced'].dt.hour\n",
    "X = X.drop(['Date_E4_synced'], axis=1)\n",
    "print(X)\n",
    "\n",
    "y = combined_df['Sleep_stage']"
   ]
  },
  {
   "cell_type": "code",
   "execution_count": 9,
   "metadata": {},
   "outputs": [
    {
     "data": {
      "text/plain": [
       "EDR_count                   0\n",
       "Storm_mark                  0\n",
       "Epoch duration              0\n",
       "Epoch duration (rounded)    0\n",
       "Average EDA per epoch       0\n",
       "Date_E4_synced_hour         0\n",
       "dtype: int64"
      ]
     },
     "execution_count": 9,
     "metadata": {},
     "output_type": "execute_result"
    }
   ],
   "source": [
    "X.isnull().sum()"
   ]
  },
  {
   "cell_type": "code",
   "execution_count": 10,
   "metadata": {},
   "outputs": [
    {
     "name": "stderr",
     "output_type": "stream",
     "text": [
      "/opt/anaconda3/envs/myenv/lib/python3.9/site-packages/sklearn/base.py:474: FutureWarning: `BaseEstimator._validate_data` is deprecated in 1.6 and will be removed in 1.7. Use `sklearn.utils.validation.validate_data` instead. This function becomes public and is part of the scikit-learn developer API.\n",
      "  warnings.warn(\n"
     ]
    }
   ],
   "source": [
    "sm = SMOTE(random_state=42)\n",
    "X, y = sm.fit_resample(X, y)"
   ]
  },
  {
   "cell_type": "code",
   "execution_count": 11,
   "metadata": {},
   "outputs": [],
   "source": [
    "X_train, X_test, y_train, y_test = train_test_split(X, y, test_size=0.2, random_state=42)\n",
    "\n",
    "rf = RandomForestClassifier(n_estimators=100, random_state=42)\n",
    "rf.fit(X_train, y_train)\n",
    "y_pred = rf.predict(X_test)"
   ]
  },
  {
   "cell_type": "code",
   "execution_count": 12,
   "metadata": {},
   "outputs": [
    {
     "name": "stdout",
     "output_type": "stream",
     "text": [
      "              precision    recall  f1-score   support\n",
      "\n",
      "           1       0.59      0.59      0.59      5045\n",
      "           2       0.52      0.50      0.51      5034\n",
      "           R       0.58      0.59      0.58      4960\n",
      "           W       0.56      0.58      0.57      4912\n",
      "\n",
      "    accuracy                           0.56     19951\n",
      "   macro avg       0.56      0.56      0.56     19951\n",
      "weighted avg       0.56      0.56      0.56     19951\n",
      "\n"
     ]
    }
   ],
   "source": [
    "print(classification_report(y_test, y_pred))"
   ]
  },
  {
   "cell_type": "code",
   "execution_count": 14,
   "metadata": {},
   "outputs": [
    {
     "data": {
      "image/png": "[encoded data removed]",
      "text/plain": [
       "<Figure size 1000x700 with 1 Axes>"
      ]
     },
     "metadata": {},
     "output_type": "display_data"
    }
   ],
   "source": [
    "conf_matrix = confusion_matrix(y_test, y_pred)\n",
    "\n",
    "# Plotting the confusion matrix\n",
    "plt.figure(figsize=(10, 7))  # Set the size of the plot\n",
    "sns.heatmap(conf_matrix, annot=True, fmt='g', cmap='Blues', \n",
    "            xticklabels=['1', '2', 'R', 'W'],  \n",
    "            yticklabels=['1', '2', 'R', 'W'],\n",
    "            cbar=False)  # Disable color bar\n",
    "\n",
    "plt.title('Confusion Matrix')\n",
    "plt.xlabel('Predicted Labels')\n",
    "plt.ylabel('True Labels')\n",
    "plt.show()"
   ]
  },
  {
   "cell_type": "markdown",
   "metadata": {},
   "source": [
    "## Attempt 2: Optimize Hyperparameters"
   ]
  },
  {
   "cell_type": "code",
   "execution_count": 15,
   "metadata": {},
   "outputs": [
    {
     "name": "stderr",
     "output_type": "stream",
     "text": [
      "/opt/anaconda3/envs/myenv/lib/python3.9/site-packages/joblib/externals/loky/process_executor.py:752: UserWarning: A worker stopped while some jobs were given to the executor. This can be caused by a too short worker timeout or by a memory leak.\n",
      "  warnings.warn(\n"
     ]
    },
    {
     "name": "stdout",
     "output_type": "stream",
     "text": [
      "Best parameters: {'bootstrap': True, 'max_depth': 20, 'min_samples_leaf': 1, 'min_samples_split': 5, 'n_estimators': 200}\n"
     ]
    }
   ],
   "source": [
    "param_grid = {\n",
    "    'n_estimators': [50, 100, 200],  # Number of trees\n",
    "    'max_depth': [None, 10, 20, 30],  # Tree depth\n",
    "    'min_samples_split': [2, 5, 10],  # Minimum samples per split\n",
    "    'min_samples_leaf': [1, 2, 4],  # Minimum samples per leaf\n",
    "    'bootstrap': [True, False]  # Sampling technique\n",
    "}\n",
    "\n",
    "rf = RandomForestClassifier()\n",
    "grid_search = GridSearchCV(rf, param_grid, cv=5, scoring='accuracy', n_jobs=-1)\n",
    "grid_search.fit(X_train, y_train)\n",
    "\n",
    "print(\"Best parameters:\", grid_search.best_params_)"
   ]
  },
  {
   "cell_type": "code",
   "execution_count": 16,
   "metadata": {},
   "outputs": [],
   "source": [
    "# Use the best model found by GridSearchCV\n",
    "best_rf = grid_search.best_estimator_\n",
    "\n",
    "y_pred = best_rf.predict(X_test)"
   ]
  },
  {
   "cell_type": "code",
   "execution_count": 17,
   "metadata": {},
   "outputs": [
    {
     "name": "stdout",
     "output_type": "stream",
     "text": [
      "              precision    recall  f1-score   support\n",
      "\n",
      "           1       0.62      0.59      0.60      5045\n",
      "           2       0.57      0.53      0.55      5034\n",
      "           R       0.57      0.65      0.61      4960\n",
      "           W       0.60      0.59      0.59      4912\n",
      "\n",
      "    accuracy                           0.59     19951\n",
      "   macro avg       0.59      0.59      0.59     19951\n",
      "weighted avg       0.59      0.59      0.59     19951\n",
      "\n"
     ]
    }
   ],
   "source": [
    "print(classification_report(y_test, y_pred))"
   ]
  },
  {
   "cell_type": "markdown",
   "metadata": {},
   "source": [
    "## Attempt 3: Added features"
   ]
  },
  {
   "cell_type": "code",
   "execution_count": 9,
   "metadata": {},
   "outputs": [
    {
     "ename": "NameError",
     "evalue": "name 'data_directory' is not defined",
     "output_type": "error",
     "traceback": [
      "\u001b[0;31m---------------------------------------------------------------------------\u001b[0m",
      "\u001b[0;31mNameError\u001b[0m                                 Traceback (most recent call last)",
      "Cell \u001b[0;32mIn[9], line 56\u001b[0m\n\u001b[1;32m     53\u001b[0m     \u001b[38;5;28;01mreturn\u001b[39;00m match\u001b[38;5;241m.\u001b[39mgroup(\u001b[38;5;241m1\u001b[39m) \u001b[38;5;28;01mif\u001b[39;00m match \u001b[38;5;28;01melse\u001b[39;00m \u001b[38;5;28;01mNone\u001b[39;00m\n\u001b[1;32m     55\u001b[0m \u001b[38;5;66;03m# Process all patients\u001b[39;00m\n\u001b[0;32m---> 56\u001b[0m \u001b[38;5;28;01mfor\u001b[39;00m file \u001b[38;5;129;01min\u001b[39;00m os\u001b[38;5;241m.\u001b[39mlistdir(\u001b[43mdata_directory\u001b[49m):\n\u001b[1;32m     57\u001b[0m     \u001b[38;5;28;01mif\u001b[39;00m file\u001b[38;5;241m.\u001b[39mstartswith(\u001b[38;5;124m\"\u001b[39m\u001b[38;5;124mEDA_Analysis_\u001b[39m\u001b[38;5;124m\"\u001b[39m) \u001b[38;5;129;01mand\u001b[39;00m file\u001b[38;5;241m.\u001b[39mendswith(\u001b[38;5;124m\"\u001b[39m\u001b[38;5;124m.xlsx\u001b[39m\u001b[38;5;124m\"\u001b[39m):\n\u001b[1;32m     58\u001b[0m         patient_id \u001b[38;5;241m=\u001b[39m file\u001b[38;5;241m.\u001b[39mreplace(\u001b[38;5;124m\"\u001b[39m\u001b[38;5;124mEDA_Analysis_\u001b[39m\u001b[38;5;124m\"\u001b[39m, \u001b[38;5;124m\"\u001b[39m\u001b[38;5;124m\"\u001b[39m)\u001b[38;5;241m.\u001b[39mreplace(\u001b[38;5;124m\"\u001b[39m\u001b[38;5;124m.xlsx\u001b[39m\u001b[38;5;124m\"\u001b[39m, \u001b[38;5;124m\"\u001b[39m\u001b[38;5;124m\"\u001b[39m)\n",
      "\u001b[0;31mNameError\u001b[0m: name 'data_directory' is not defined"
     ]
    }
   ],
   "source": [
    "cleaned_eda_folder = \"/Users/lamahasbini/Library/CloudStorage/OneDrive-AmericanUniversityofBeirut/FYP 2024-25 ECE/FYP_Fall_2024-2025/ML Implementation/Cleaned EDA input files\"\n",
    "output_folder = \"/Users/lamahasbini/Library/CloudStorage/OneDrive-AmericanUniversityofBeirut/FYP 2024-25 ECE/FYP_Fall_2024-2025/ML Implementation/RF_first_try/features\"\n",
    "patient_info_file = '/Users/lamahasbini/Library/CloudStorage/OneDrive-AmericanUniversityofBeirut/FYP 2024-25 ECE/FYP_Fall_2024-2025/ML Implementation/Data.csv'\n",
    "\n",
    "os.makedirs(output_folder, exist_ok=True)\n",
    "\n",
    "df_patient_info = pd.read_csv(patient_info_file)  \n",
    "df_patient_info.set_index(\"Record ID\", inplace=True)\n",
    "\n",
    "def extract_features(signal):\n",
    "    if len(signal) == 0:\n",
    "        return {key: np.nan for key in [\"Mode\", \"Median\", \"MaxAbs\", \"LineLength\", \"10thQuantile\", \"75thQuantile\", \"NonLinearEnergy\", \"SVD_Entropy\", \"ShannonEntropy\"]}\n",
    "\n",
    "    mode_result = mode(signal, nan_policy=\"omit\")\n",
    "    mode_value = mode_result.mode.item() if mode_result.mode.size > 0 else np.nan\n",
    "    \n",
    "    features = {\n",
    "        \"Mode\": mode_value,\n",
    "        \"Median\": np.median(signal),\n",
    "        \"MaxAbs\": np.max(np.abs(signal)),\n",
    "        \"LineLength\": np.sum(np.abs(np.diff(signal))),\n",
    "        \"10thQuantile\": np.quantile(signal, 0.10),\n",
    "        \"75thQuantile\": np.quantile(signal, 0.75),\n",
    "        \"NonLinearEnergy\": np.sum(signal[:-2] * signal[1:-1] - signal[2:] ** 2) if len(signal) > 2 else np.nan,\n",
    "    }\n",
    "\n",
    "    # Singular Value Decomposition (SVD) Entropy\n",
    "    if len(signal) > 1:\n",
    "        U, S, V = np.linalg.svd(np.reshape(signal, (-1, 1)), full_matrices=False)\n",
    "        if np.sum(S) > 0:  # Avoid division by zero\n",
    "            S_norm = S / np.sum(S)\n",
    "            features[\"SVD_Entropy\"] = -np.sum(S_norm * np.log2(S_norm + 1e-10))\n",
    "        else:\n",
    "            features[\"SVD_Entropy\"] = np.nan\n",
    "    else:\n",
    "        features[\"SVD_Entropy\"] = np.nan\n",
    "\n",
    "    # Shannon Entropy\n",
    "    hist, _ = np.histogram(signal, bins=10, density=True)\n",
    "    hist = hist + 1e-10  # Prevent log(0)\n",
    "    features[\"ShannonEntropy\"] = entropy(hist, base=2)\n",
    "\n",
    "    return features\n",
    "\n",
    "def find_matching_eda_file(patient_id):\n",
    "    core_id = re.sub(r\"(_new|\\d+)$\", \"\", patient_id) \n",
    "    matching_files = glob.glob(os.path.join(cleaned_eda_folder, f\"EDA_{core_id}*.csv\"))\n",
    "    return matching_files[0] if matching_files else None\n",
    "\n",
    "def extract_numeric_id(patient_id):\n",
    "    \"\"\"Extract the numeric part from a patient ID like 'P36_LW' -> '36'\"\"\"\n",
    "    match = re.search(r\"P?(\\d+)\", patient_id)\n",
    "    return match.group(1) if match else None\n",
    "\n",
    "# Process all patients\n",
    "for file in os.listdir(data_directory):\n",
    "    if file.startswith(\"EDA_Analysis_\") and file.endswith(\".xlsx\"):\n",
    "        patient_id = file.replace(\"EDA_Analysis_\", \"\").replace(\".xlsx\", \"\")\n",
    "        numeric_id = extract_numeric_id(patient_id)\n",
    "        if not numeric_id:\n",
    "            print(f\"Could not extract numeric ID from {patient_id}, skipping...\")\n",
    "            continue\n",
    "        excel_path = os.path.join(data_directory, file)\n",
    "\n",
    "        csv_path = find_matching_eda_file(patient_id)\n",
    "\n",
    "        if not csv_path:\n",
    "            print(f\"Missing EDA file for {patient_id}, skipping...\")\n",
    "            continue\n",
    "\n",
    "        print(f\"Processing {patient_id}...\")\n",
    "\n",
    "        # Load epoch durations from Excel\n",
    "        df_excel = pd.read_excel(excel_path, sheet_name=\"Sheet3\")\n",
    "        epoch_durations = df_excel[\"Epoch duration (rounded)\"].dropna().values\n",
    "        \n",
    "        extra_features = df_excel[[\"Average EDA per epoch\", \"EDR_count\", \"Storm_mark\", \"Sleep_stage\"]].dropna()\n",
    "\n",
    "        # Load EDA signal data\n",
    "        df_eda = pd.read_csv(csv_path)\n",
    "        df_eda.columns = [\"EDA\"]\n",
    "        eda_signal = df_eda[\"EDA\"].values\n",
    "        feature_list = []\n",
    "\n",
    "        # Segment EDA signal based on epoch durations\n",
    "        start_idx = 0\n",
    "        for i, duration in enumerate(epoch_durations):\n",
    "            end_idx = start_idx + int(duration)  # Convert duration to sample index\n",
    "\n",
    "            if end_idx > len(eda_signal):  \n",
    "                break  # Stop if we run out of data\n",
    "\n",
    "            epoch_signal = eda_signal[start_idx:end_idx]\n",
    "            features = extract_features(epoch_signal)\n",
    "\n",
    "            if i < len(extra_features):\n",
    "                features.update(extra_features.iloc[i].to_dict())\n",
    "                \n",
    "            feature_list.append(features)  # Do NOT include Patient_ID\n",
    "\n",
    "            start_idx = end_idx  # Move to next epoch\n",
    "\n",
    "        # Save extracted features\n",
    "        if feature_list:\n",
    "            feature_df = pd.DataFrame(feature_list)\n",
    "            try:\n",
    "                numeric_id_int = int(numeric_id)\n",
    "                if numeric_id_int in df_patient_info.index:\n",
    "                    print(f\"Found patient info for ID {numeric_id_int}. Adding age/gender.\")\n",
    "                    feature_df[\"Age\"] = df_patient_info.loc[numeric_id_int, \"Age (Years)\"]\n",
    "                    feature_df[\"Gender\"] = df_patient_info.loc[numeric_id_int, \"Gender\"]\n",
    "                else:\n",
    "                    print(f\"Missing patient info for ID {numeric_id_int}, skipping age/gender.\")\n",
    "            except ValueError:\n",
    "                print(f\"Invalid numeric ID: {numeric_id}, skipping age/gender.\")\n",
    "\n",
    "            output_path = os.path.join(output_folder, f\"Features_{patient_id}.csv\")\n",
    "            feature_df.to_csv(output_path, index=False)\n",
    "            print(f\"Saved features for {patient_id}\")\n",
    "\n",
    "print(\"Processing complete.\")"
   ]
  },
  {
   "cell_type": "code",
   "execution_count": 10,
   "metadata": {},
   "outputs": [],
   "source": [
    "output_folder = \"/Users/lamahasbini/Library/CloudStorage/OneDrive-AmericanUniversityofBeirut/FYP 2024-25 ECE/FYP_Fall_2024-2025/ML Implementation/RF_first_try/features\"\n",
    "features_df = pd.DataFrame()\n",
    "\n",
    "for file in os.listdir(output_folder):\n",
    "    if file.endswith('.csv'):\n",
    "        file_path = os.path.join(output_folder, file)\n",
    "        temp = pd.read_csv(file_path)\n",
    "        parts = file.replace('.csv', '').split('_')\n",
    "        patient_id = f\"{parts[-2]}_{parts[-1]}\"\n",
    "        \n",
    "        temp['Patient_ID'] = patient_id  \n",
    "        features_df = pd.concat([features_df, temp], ignore_index=True)"
   ]
  },
  {
   "cell_type": "code",
   "execution_count": 11,
   "metadata": {},
   "outputs": [],
   "source": [
    "features_df['Sleep_stage'] = features_df['Sleep_stage'].astype(str)\n",
    "features_df['Sleep_stage'] = features_df['Sleep_stage'].replace('3', '2')\n",
    "features_df['Sleep_stage'] = features_df['Sleep_stage'].replace('r', 'R')"
   ]
  },
  {
   "cell_type": "code",
   "execution_count": 12,
   "metadata": {},
   "outputs": [
    {
     "name": "stdout",
     "output_type": "stream",
     "text": [
      "       Mode    Median    MaxAbs  LineLength  10thQuantile  75thQuantile  \\\n",
      "0  0.256090  0.257795  4.000000    3.745123      0.256178      0.258123   \n",
      "1  0.256271  0.259584  0.260198    0.004233      0.256971      0.260031   \n",
      "2  0.259068  0.260004  0.260528    0.002677      0.259153      0.260201   \n",
      "3  0.260592  0.261212  0.261553    0.002090      0.260943      0.261330   \n",
      "4  0.260543  0.261351  0.261547    0.002381      0.260657      0.261450   \n",
      "\n",
      "   NonLinearEnergy   SVD_Entropy  ShannonEntropy  Average EDA per epoch  \\\n",
      "0         0.970088 -1.442695e-10        0.210842               0.259464   \n",
      "1        -0.002847 -1.442695e-10        2.678204               0.262164   \n",
      "2        -0.000259 -1.442695e-10        3.076895               0.263591   \n",
      "3        -0.000548 -1.442695e-10        3.031402               0.264969   \n",
      "4        -0.000012 -1.442695e-10        2.815061               0.265454   \n",
      "\n",
      "   EDR_count  Storm_mark Sleep_stage  Age  Gender           Date_E4_synced  \\\n",
      "0        0.0           0           1   57  Female  2017-09-23 23:50:53.172   \n",
      "1        0.0           0           1   57  Female  2017-09-23 23:51:23.172   \n",
      "2        0.0           0           2   57  Female  2017-09-23 23:51:53.172   \n",
      "3        0.0           0           2   57  Female  2017-09-23 23:52:22.172   \n",
      "4        0.0           0           2   57  Female  2017-09-23 23:52:52.172   \n",
      "\n",
      "   time_since_storm_start  time_since_last_storm Patient_ID  \n",
      "0                     0.0                    0.0     P43_LW  \n",
      "1                     0.0                    0.0     P43_LW  \n",
      "2                     0.0                    0.0     P43_LW  \n",
      "3                     0.0                    0.0     P43_LW  \n",
      "4                     0.0                    0.0     P43_LW  \n",
      "Total records combined: 46079\n"
     ]
    }
   ],
   "source": [
    "print(features_df.head()) \n",
    "print(f\"Total records combined: {len(features_df)}\")"
   ]
  },
  {
   "cell_type": "code",
   "execution_count": 13,
   "metadata": {},
   "outputs": [
    {
     "data": {
      "text/plain": [
       "Mode                        23\n",
       "Median                      23\n",
       "MaxAbs                      23\n",
       "LineLength                  23\n",
       "10thQuantile                23\n",
       "75thQuantile                23\n",
       "NonLinearEnergy             23\n",
       "SVD_Entropy               1071\n",
       "ShannonEntropy              23\n",
       "Average EDA per epoch      374\n",
       "EDR_count                  374\n",
       "Storm_mark                   0\n",
       "Sleep_stage                  0\n",
       "Age                          0\n",
       "Gender                       0\n",
       "Date_E4_synced               0\n",
       "time_since_storm_start       0\n",
       "time_since_last_storm        0\n",
       "Patient_ID                   0\n",
       "dtype: int64"
      ]
     },
     "execution_count": 13,
     "metadata": {},
     "output_type": "execute_result"
    }
   ],
   "source": [
    "features_df.isnull().sum()"
   ]
  },
  {
   "cell_type": "code",
   "execution_count": 14,
   "metadata": {},
   "outputs": [],
   "source": [
    "features_df = features_df.dropna()"
   ]
  },
  {
   "cell_type": "code",
   "execution_count": 17,
   "metadata": {},
   "outputs": [
    {
     "name": "stdout",
     "output_type": "stream",
     "text": [
      "           Mode    Median    MaxAbs  LineLength  10thQuantile  75thQuantile  \\\n",
      "0      0.256090  0.257795  4.000000    3.745123      0.256178      0.258123   \n",
      "1      0.256271  0.259584  0.260198    0.004233      0.256971      0.260031   \n",
      "2      0.259068  0.260004  0.260528    0.002677      0.259153      0.260201   \n",
      "3      0.260592  0.261212  0.261553    0.002090      0.260943      0.261330   \n",
      "4      0.260543  0.261351  0.261547    0.002381      0.260657      0.261450   \n",
      "...         ...       ...       ...         ...           ...           ...   \n",
      "46074  0.137735  0.138617  0.139257    0.001609      0.137823      0.139119   \n",
      "46075  0.137768  0.137965  0.138593    0.001052      0.137860      0.138386   \n",
      "46076  0.137561  0.137830  0.138889    0.002131      0.137613      0.138564   \n",
      "46077  0.137962  0.138478  0.138784    0.001489      0.138241      0.138600   \n",
      "46078  0.138364  0.138666  0.139057    0.001295      0.138420      0.138899   \n",
      "\n",
      "       NonLinearEnergy   SVD_Entropy  ShannonEntropy  Average EDA per epoch  \\\n",
      "0             0.970088 -1.442695e-10        0.210842               0.259464   \n",
      "1            -0.002847 -1.442695e-10        2.678204               0.262164   \n",
      "2            -0.000259 -1.442695e-10        3.076895               0.263591   \n",
      "3            -0.000548 -1.442695e-10        3.031402               0.264969   \n",
      "4            -0.000012 -1.442695e-10        2.815061               0.265454   \n",
      "...                ...           ...             ...                    ...   \n",
      "46074         0.000609 -1.442695e-10        2.989898               0.000000   \n",
      "46075        -0.000319 -1.442695e-10        2.888346               0.000000   \n",
      "46076         0.000374 -1.442695e-10        2.692272               0.000000   \n",
      "46077        -0.000226 -1.442695e-10        2.986035               0.000000   \n",
      "46078        -0.000108 -1.442695e-10        2.931520               0.809965   \n",
      "\n",
      "       EDR_count  Storm_mark  Age  Gender  time_since_storm_start  \\\n",
      "0            0.0           0   57  Female                     0.0   \n",
      "1            0.0           0   57  Female                     0.0   \n",
      "2            0.0           0   57  Female                     0.0   \n",
      "3            0.0           0   57  Female                     0.0   \n",
      "4            0.0           0   57  Female                     0.0   \n",
      "...          ...         ...  ...     ...                     ...   \n",
      "46074        0.0           0   65  Female                     0.0   \n",
      "46075        0.0           0   65  Female                     0.0   \n",
      "46076        0.0           0   65  Female                     0.0   \n",
      "46077        0.0           0   65  Female                     0.0   \n",
      "46078        0.0           0   65  Female                     0.0   \n",
      "\n",
      "       time_since_last_storm  \n",
      "0                        0.0  \n",
      "1                        0.0  \n",
      "2                        0.0  \n",
      "3                        0.0  \n",
      "4                        0.0  \n",
      "...                      ...  \n",
      "46074                 5297.0  \n",
      "46075                 5327.0  \n",
      "46076                 5356.0  \n",
      "46077                 5386.0  \n",
      "46078                 5416.0  \n",
      "\n",
      "[44634 rows x 16 columns]\n"
     ]
    }
   ],
   "source": [
    "X = features_df.drop(['Sleep_stage', 'Patient_ID', 'Date_E4_synced'], axis=1)\n",
    "print(X)\n",
    "\n",
    "y = features_df['Sleep_stage']"
   ]
  },
  {
   "cell_type": "code",
   "execution_count": 18,
   "metadata": {},
   "outputs": [
    {
     "name": "stderr",
     "output_type": "stream",
     "text": [
      "/opt/anaconda3/envs/myenv/lib/python3.9/site-packages/sklearn/base.py:474: FutureWarning: `BaseEstimator._validate_data` is deprecated in 1.6 and will be removed in 1.7. Use `sklearn.utils.validation.validate_data` instead. This function becomes public and is part of the scikit-learn developer API.\n",
      "  warnings.warn(\n"
     ]
    }
   ],
   "source": [
    "if \"Gender\" in X.columns:\n",
    "    le = LabelEncoder()\n",
    "    X[\"Gender\"] = le.fit_transform(X[\"Gender\"])  # Converts 'Female' -> 0, 'Male' -> 1\n",
    "\n",
    "sm = SMOTE(random_state=42)\n",
    "X, y = sm.fit_resample(X, y)"
   ]
  },
  {
   "cell_type": "code",
   "execution_count": 19,
   "metadata": {},
   "outputs": [],
   "source": [
    "X_train, X_test, y_train, y_test = train_test_split(X, y, test_size=0.2, random_state=42)"
   ]
  },
  {
   "cell_type": "code",
   "execution_count": 20,
   "metadata": {},
   "outputs": [
    {
     "ename": "KeyboardInterrupt",
     "evalue": "",
     "output_type": "error",
     "traceback": [
      "\u001b[0;31m---------------------------------------------------------------------------\u001b[0m",
      "\u001b[0;31mKeyboardInterrupt\u001b[0m                         Traceback (most recent call last)",
      "Cell \u001b[0;32mIn[20], line 11\u001b[0m\n\u001b[1;32m      9\u001b[0m rf \u001b[38;5;241m=\u001b[39m RandomForestClassifier(class_weight\u001b[38;5;241m=\u001b[39m\u001b[38;5;124m'\u001b[39m\u001b[38;5;124mbalanced\u001b[39m\u001b[38;5;124m'\u001b[39m, random_state\u001b[38;5;241m=\u001b[39m\u001b[38;5;241m42\u001b[39m)\n\u001b[1;32m     10\u001b[0m grid_search \u001b[38;5;241m=\u001b[39m GridSearchCV(rf, param_grid, cv\u001b[38;5;241m=\u001b[39m\u001b[38;5;241m5\u001b[39m, scoring\u001b[38;5;241m=\u001b[39m\u001b[38;5;124m'\u001b[39m\u001b[38;5;124maccuracy\u001b[39m\u001b[38;5;124m'\u001b[39m, n_jobs\u001b[38;5;241m=\u001b[39m\u001b[38;5;241m-\u001b[39m\u001b[38;5;241m1\u001b[39m)\n\u001b[0;32m---> 11\u001b[0m \u001b[43mgrid_search\u001b[49m\u001b[38;5;241;43m.\u001b[39;49m\u001b[43mfit\u001b[49m\u001b[43m(\u001b[49m\u001b[43mX_train\u001b[49m\u001b[43m,\u001b[49m\u001b[43m \u001b[49m\u001b[43my_train\u001b[49m\u001b[43m)\u001b[49m\n\u001b[1;32m     13\u001b[0m \u001b[38;5;28mprint\u001b[39m(\u001b[38;5;124m\"\u001b[39m\u001b[38;5;124mBest parameters:\u001b[39m\u001b[38;5;124m\"\u001b[39m, grid_search\u001b[38;5;241m.\u001b[39mbest_params_)\n",
      "File \u001b[0;32m/opt/anaconda3/envs/myenv/lib/python3.9/site-packages/sklearn/base.py:1389\u001b[0m, in \u001b[0;36m_fit_context.<locals>.decorator.<locals>.wrapper\u001b[0;34m(estimator, *args, **kwargs)\u001b[0m\n\u001b[1;32m   1382\u001b[0m     estimator\u001b[38;5;241m.\u001b[39m_validate_params()\n\u001b[1;32m   1384\u001b[0m \u001b[38;5;28;01mwith\u001b[39;00m config_context(\n\u001b[1;32m   1385\u001b[0m     skip_parameter_validation\u001b[38;5;241m=\u001b[39m(\n\u001b[1;32m   1386\u001b[0m         prefer_skip_nested_validation \u001b[38;5;129;01mor\u001b[39;00m global_skip_validation\n\u001b[1;32m   1387\u001b[0m     )\n\u001b[1;32m   1388\u001b[0m ):\n\u001b[0;32m-> 1389\u001b[0m     \u001b[38;5;28;01mreturn\u001b[39;00m \u001b[43mfit_method\u001b[49m\u001b[43m(\u001b[49m\u001b[43mestimator\u001b[49m\u001b[43m,\u001b[49m\u001b[43m \u001b[49m\u001b[38;5;241;43m*\u001b[39;49m\u001b[43margs\u001b[49m\u001b[43m,\u001b[49m\u001b[43m \u001b[49m\u001b[38;5;241;43m*\u001b[39;49m\u001b[38;5;241;43m*\u001b[39;49m\u001b[43mkwargs\u001b[49m\u001b[43m)\u001b[49m\n",
      "File \u001b[0;32m/opt/anaconda3/envs/myenv/lib/python3.9/site-packages/sklearn/model_selection/_search.py:1024\u001b[0m, in \u001b[0;36mBaseSearchCV.fit\u001b[0;34m(self, X, y, **params)\u001b[0m\n\u001b[1;32m   1018\u001b[0m     results \u001b[38;5;241m=\u001b[39m \u001b[38;5;28mself\u001b[39m\u001b[38;5;241m.\u001b[39m_format_results(\n\u001b[1;32m   1019\u001b[0m         all_candidate_params, n_splits, all_out, all_more_results\n\u001b[1;32m   1020\u001b[0m     )\n\u001b[1;32m   1022\u001b[0m     \u001b[38;5;28;01mreturn\u001b[39;00m results\n\u001b[0;32m-> 1024\u001b[0m \u001b[38;5;28;43mself\u001b[39;49m\u001b[38;5;241;43m.\u001b[39;49m\u001b[43m_run_search\u001b[49m\u001b[43m(\u001b[49m\u001b[43mevaluate_candidates\u001b[49m\u001b[43m)\u001b[49m\n\u001b[1;32m   1026\u001b[0m \u001b[38;5;66;03m# multimetric is determined here because in the case of a callable\u001b[39;00m\n\u001b[1;32m   1027\u001b[0m \u001b[38;5;66;03m# self.scoring the return type is only known after calling\u001b[39;00m\n\u001b[1;32m   1028\u001b[0m first_test_score \u001b[38;5;241m=\u001b[39m all_out[\u001b[38;5;241m0\u001b[39m][\u001b[38;5;124m\"\u001b[39m\u001b[38;5;124mtest_scores\u001b[39m\u001b[38;5;124m\"\u001b[39m]\n",
      "File \u001b[0;32m/opt/anaconda3/envs/myenv/lib/python3.9/site-packages/sklearn/model_selection/_search.py:1571\u001b[0m, in \u001b[0;36mGridSearchCV._run_search\u001b[0;34m(self, evaluate_candidates)\u001b[0m\n\u001b[1;32m   1569\u001b[0m \u001b[38;5;28;01mdef\u001b[39;00m\u001b[38;5;250m \u001b[39m\u001b[38;5;21m_run_search\u001b[39m(\u001b[38;5;28mself\u001b[39m, evaluate_candidates):\n\u001b[1;32m   1570\u001b[0m \u001b[38;5;250m    \u001b[39m\u001b[38;5;124;03m\"\"\"Search all candidates in param_grid\"\"\"\u001b[39;00m\n\u001b[0;32m-> 1571\u001b[0m     \u001b[43mevaluate_candidates\u001b[49m\u001b[43m(\u001b[49m\u001b[43mParameterGrid\u001b[49m\u001b[43m(\u001b[49m\u001b[38;5;28;43mself\u001b[39;49m\u001b[38;5;241;43m.\u001b[39;49m\u001b[43mparam_grid\u001b[49m\u001b[43m)\u001b[49m\u001b[43m)\u001b[49m\n",
      "File \u001b[0;32m/opt/anaconda3/envs/myenv/lib/python3.9/site-packages/sklearn/model_selection/_search.py:970\u001b[0m, in \u001b[0;36mBaseSearchCV.fit.<locals>.evaluate_candidates\u001b[0;34m(candidate_params, cv, more_results)\u001b[0m\n\u001b[1;32m    962\u001b[0m \u001b[38;5;28;01mif\u001b[39;00m \u001b[38;5;28mself\u001b[39m\u001b[38;5;241m.\u001b[39mverbose \u001b[38;5;241m>\u001b[39m \u001b[38;5;241m0\u001b[39m:\n\u001b[1;32m    963\u001b[0m     \u001b[38;5;28mprint\u001b[39m(\n\u001b[1;32m    964\u001b[0m         \u001b[38;5;124m\"\u001b[39m\u001b[38;5;124mFitting \u001b[39m\u001b[38;5;132;01m{0}\u001b[39;00m\u001b[38;5;124m folds for each of \u001b[39m\u001b[38;5;132;01m{1}\u001b[39;00m\u001b[38;5;124m candidates,\u001b[39m\u001b[38;5;124m\"\u001b[39m\n\u001b[1;32m    965\u001b[0m         \u001b[38;5;124m\"\u001b[39m\u001b[38;5;124m totalling \u001b[39m\u001b[38;5;132;01m{2}\u001b[39;00m\u001b[38;5;124m fits\u001b[39m\u001b[38;5;124m\"\u001b[39m\u001b[38;5;241m.\u001b[39mformat(\n\u001b[1;32m    966\u001b[0m             n_splits, n_candidates, n_candidates \u001b[38;5;241m*\u001b[39m n_splits\n\u001b[1;32m    967\u001b[0m         )\n\u001b[1;32m    968\u001b[0m     )\n\u001b[0;32m--> 970\u001b[0m out \u001b[38;5;241m=\u001b[39m \u001b[43mparallel\u001b[49m\u001b[43m(\u001b[49m\n\u001b[1;32m    971\u001b[0m \u001b[43m    \u001b[49m\u001b[43mdelayed\u001b[49m\u001b[43m(\u001b[49m\u001b[43m_fit_and_score\u001b[49m\u001b[43m)\u001b[49m\u001b[43m(\u001b[49m\n\u001b[1;32m    972\u001b[0m \u001b[43m        \u001b[49m\u001b[43mclone\u001b[49m\u001b[43m(\u001b[49m\u001b[43mbase_estimator\u001b[49m\u001b[43m)\u001b[49m\u001b[43m,\u001b[49m\n\u001b[1;32m    973\u001b[0m \u001b[43m        \u001b[49m\u001b[43mX\u001b[49m\u001b[43m,\u001b[49m\n\u001b[1;32m    974\u001b[0m \u001b[43m        \u001b[49m\u001b[43my\u001b[49m\u001b[43m,\u001b[49m\n\u001b[1;32m    975\u001b[0m \u001b[43m        \u001b[49m\u001b[43mtrain\u001b[49m\u001b[38;5;241;43m=\u001b[39;49m\u001b[43mtrain\u001b[49m\u001b[43m,\u001b[49m\n\u001b[1;32m    976\u001b[0m \u001b[43m        \u001b[49m\u001b[43mtest\u001b[49m\u001b[38;5;241;43m=\u001b[39;49m\u001b[43mtest\u001b[49m\u001b[43m,\u001b[49m\n\u001b[1;32m    977\u001b[0m \u001b[43m        \u001b[49m\u001b[43mparameters\u001b[49m\u001b[38;5;241;43m=\u001b[39;49m\u001b[43mparameters\u001b[49m\u001b[43m,\u001b[49m\n\u001b[1;32m    978\u001b[0m \u001b[43m        \u001b[49m\u001b[43msplit_progress\u001b[49m\u001b[38;5;241;43m=\u001b[39;49m\u001b[43m(\u001b[49m\u001b[43msplit_idx\u001b[49m\u001b[43m,\u001b[49m\u001b[43m \u001b[49m\u001b[43mn_splits\u001b[49m\u001b[43m)\u001b[49m\u001b[43m,\u001b[49m\n\u001b[1;32m    979\u001b[0m \u001b[43m        \u001b[49m\u001b[43mcandidate_progress\u001b[49m\u001b[38;5;241;43m=\u001b[39;49m\u001b[43m(\u001b[49m\u001b[43mcand_idx\u001b[49m\u001b[43m,\u001b[49m\u001b[43m \u001b[49m\u001b[43mn_candidates\u001b[49m\u001b[43m)\u001b[49m\u001b[43m,\u001b[49m\n\u001b[1;32m    980\u001b[0m \u001b[43m        \u001b[49m\u001b[38;5;241;43m*\u001b[39;49m\u001b[38;5;241;43m*\u001b[39;49m\u001b[43mfit_and_score_kwargs\u001b[49m\u001b[43m,\u001b[49m\n\u001b[1;32m    981\u001b[0m \u001b[43m    \u001b[49m\u001b[43m)\u001b[49m\n\u001b[1;32m    982\u001b[0m \u001b[43m    \u001b[49m\u001b[38;5;28;43;01mfor\u001b[39;49;00m\u001b[43m \u001b[49m\u001b[43m(\u001b[49m\u001b[43mcand_idx\u001b[49m\u001b[43m,\u001b[49m\u001b[43m \u001b[49m\u001b[43mparameters\u001b[49m\u001b[43m)\u001b[49m\u001b[43m,\u001b[49m\u001b[43m \u001b[49m\u001b[43m(\u001b[49m\u001b[43msplit_idx\u001b[49m\u001b[43m,\u001b[49m\u001b[43m \u001b[49m\u001b[43m(\u001b[49m\u001b[43mtrain\u001b[49m\u001b[43m,\u001b[49m\u001b[43m \u001b[49m\u001b[43mtest\u001b[49m\u001b[43m)\u001b[49m\u001b[43m)\u001b[49m\u001b[43m \u001b[49m\u001b[38;5;129;43;01min\u001b[39;49;00m\u001b[43m \u001b[49m\u001b[43mproduct\u001b[49m\u001b[43m(\u001b[49m\n\u001b[1;32m    983\u001b[0m \u001b[43m        \u001b[49m\u001b[38;5;28;43menumerate\u001b[39;49m\u001b[43m(\u001b[49m\u001b[43mcandidate_params\u001b[49m\u001b[43m)\u001b[49m\u001b[43m,\u001b[49m\n\u001b[1;32m    984\u001b[0m \u001b[43m        \u001b[49m\u001b[38;5;28;43menumerate\u001b[39;49m\u001b[43m(\u001b[49m\u001b[43mcv\u001b[49m\u001b[38;5;241;43m.\u001b[39;49m\u001b[43msplit\u001b[49m\u001b[43m(\u001b[49m\u001b[43mX\u001b[49m\u001b[43m,\u001b[49m\u001b[43m \u001b[49m\u001b[43my\u001b[49m\u001b[43m,\u001b[49m\u001b[43m \u001b[49m\u001b[38;5;241;43m*\u001b[39;49m\u001b[38;5;241;43m*\u001b[39;49m\u001b[43mrouted_params\u001b[49m\u001b[38;5;241;43m.\u001b[39;49m\u001b[43msplitter\u001b[49m\u001b[38;5;241;43m.\u001b[39;49m\u001b[43msplit\u001b[49m\u001b[43m)\u001b[49m\u001b[43m)\u001b[49m\u001b[43m,\u001b[49m\n\u001b[1;32m    985\u001b[0m \u001b[43m    \u001b[49m\u001b[43m)\u001b[49m\n\u001b[1;32m    986\u001b[0m \u001b[43m\u001b[49m\u001b[43m)\u001b[49m\n\u001b[1;32m    988\u001b[0m \u001b[38;5;28;01mif\u001b[39;00m \u001b[38;5;28mlen\u001b[39m(out) \u001b[38;5;241m<\u001b[39m \u001b[38;5;241m1\u001b[39m:\n\u001b[1;32m    989\u001b[0m     \u001b[38;5;28;01mraise\u001b[39;00m \u001b[38;5;167;01mValueError\u001b[39;00m(\n\u001b[1;32m    990\u001b[0m         \u001b[38;5;124m\"\u001b[39m\u001b[38;5;124mNo fits were performed. \u001b[39m\u001b[38;5;124m\"\u001b[39m\n\u001b[1;32m    991\u001b[0m         \u001b[38;5;124m\"\u001b[39m\u001b[38;5;124mWas the CV iterator empty? \u001b[39m\u001b[38;5;124m\"\u001b[39m\n\u001b[1;32m    992\u001b[0m         \u001b[38;5;124m\"\u001b[39m\u001b[38;5;124mWere there no candidates?\u001b[39m\u001b[38;5;124m\"\u001b[39m\n\u001b[1;32m    993\u001b[0m     )\n",
      "File \u001b[0;32m/opt/anaconda3/envs/myenv/lib/python3.9/site-packages/sklearn/utils/parallel.py:77\u001b[0m, in \u001b[0;36mParallel.__call__\u001b[0;34m(self, iterable)\u001b[0m\n\u001b[1;32m     72\u001b[0m config \u001b[38;5;241m=\u001b[39m get_config()\n\u001b[1;32m     73\u001b[0m iterable_with_config \u001b[38;5;241m=\u001b[39m (\n\u001b[1;32m     74\u001b[0m     (_with_config(delayed_func, config), args, kwargs)\n\u001b[1;32m     75\u001b[0m     \u001b[38;5;28;01mfor\u001b[39;00m delayed_func, args, kwargs \u001b[38;5;129;01min\u001b[39;00m iterable\n\u001b[1;32m     76\u001b[0m )\n\u001b[0;32m---> 77\u001b[0m \u001b[38;5;28;01mreturn\u001b[39;00m \u001b[38;5;28;43msuper\u001b[39;49m\u001b[43m(\u001b[49m\u001b[43m)\u001b[49m\u001b[38;5;241;43m.\u001b[39;49m\u001b[38;5;21;43m__call__\u001b[39;49m\u001b[43m(\u001b[49m\u001b[43miterable_with_config\u001b[49m\u001b[43m)\u001b[49m\n",
      "File \u001b[0;32m/opt/anaconda3/envs/myenv/lib/python3.9/site-packages/joblib/parallel.py:2007\u001b[0m, in \u001b[0;36mParallel.__call__\u001b[0;34m(self, iterable)\u001b[0m\n\u001b[1;32m   2001\u001b[0m \u001b[38;5;66;03m# The first item from the output is blank, but it makes the interpreter\u001b[39;00m\n\u001b[1;32m   2002\u001b[0m \u001b[38;5;66;03m# progress until it enters the Try/Except block of the generator and\u001b[39;00m\n\u001b[1;32m   2003\u001b[0m \u001b[38;5;66;03m# reaches the first `yield` statement. This starts the asynchronous\u001b[39;00m\n\u001b[1;32m   2004\u001b[0m \u001b[38;5;66;03m# dispatch of the tasks to the workers.\u001b[39;00m\n\u001b[1;32m   2005\u001b[0m \u001b[38;5;28mnext\u001b[39m(output)\n\u001b[0;32m-> 2007\u001b[0m \u001b[38;5;28;01mreturn\u001b[39;00m output \u001b[38;5;28;01mif\u001b[39;00m \u001b[38;5;28mself\u001b[39m\u001b[38;5;241m.\u001b[39mreturn_generator \u001b[38;5;28;01melse\u001b[39;00m \u001b[38;5;28;43mlist\u001b[39;49m\u001b[43m(\u001b[49m\u001b[43moutput\u001b[49m\u001b[43m)\u001b[49m\n",
      "File \u001b[0;32m/opt/anaconda3/envs/myenv/lib/python3.9/site-packages/joblib/parallel.py:1650\u001b[0m, in \u001b[0;36mParallel._get_outputs\u001b[0;34m(self, iterator, pre_dispatch)\u001b[0m\n\u001b[1;32m   1647\u001b[0m     \u001b[38;5;28;01myield\u001b[39;00m\n\u001b[1;32m   1649\u001b[0m     \u001b[38;5;28;01mwith\u001b[39;00m \u001b[38;5;28mself\u001b[39m\u001b[38;5;241m.\u001b[39m_backend\u001b[38;5;241m.\u001b[39mretrieval_context():\n\u001b[0;32m-> 1650\u001b[0m         \u001b[38;5;28;01myield from\u001b[39;00m \u001b[38;5;28mself\u001b[39m\u001b[38;5;241m.\u001b[39m_retrieve()\n\u001b[1;32m   1652\u001b[0m \u001b[38;5;28;01mexcept\u001b[39;00m \u001b[38;5;167;01mGeneratorExit\u001b[39;00m:\n\u001b[1;32m   1653\u001b[0m     \u001b[38;5;66;03m# The generator has been garbage collected before being fully\u001b[39;00m\n\u001b[1;32m   1654\u001b[0m     \u001b[38;5;66;03m# consumed. This aborts the remaining tasks if possible and warn\u001b[39;00m\n\u001b[1;32m   1655\u001b[0m     \u001b[38;5;66;03m# the user if necessary.\u001b[39;00m\n\u001b[1;32m   1656\u001b[0m     \u001b[38;5;28mself\u001b[39m\u001b[38;5;241m.\u001b[39m_exception \u001b[38;5;241m=\u001b[39m \u001b[38;5;28;01mTrue\u001b[39;00m\n",
      "File \u001b[0;32m/opt/anaconda3/envs/myenv/lib/python3.9/site-packages/joblib/parallel.py:1762\u001b[0m, in \u001b[0;36mParallel._retrieve\u001b[0;34m(self)\u001b[0m\n\u001b[1;32m   1757\u001b[0m \u001b[38;5;66;03m# If the next job is not ready for retrieval yet, we just wait for\u001b[39;00m\n\u001b[1;32m   1758\u001b[0m \u001b[38;5;66;03m# async callbacks to progress.\u001b[39;00m\n\u001b[1;32m   1759\u001b[0m \u001b[38;5;28;01mif\u001b[39;00m ((\u001b[38;5;28mlen\u001b[39m(\u001b[38;5;28mself\u001b[39m\u001b[38;5;241m.\u001b[39m_jobs) \u001b[38;5;241m==\u001b[39m \u001b[38;5;241m0\u001b[39m) \u001b[38;5;129;01mor\u001b[39;00m\n\u001b[1;32m   1760\u001b[0m     (\u001b[38;5;28mself\u001b[39m\u001b[38;5;241m.\u001b[39m_jobs[\u001b[38;5;241m0\u001b[39m]\u001b[38;5;241m.\u001b[39mget_status(\n\u001b[1;32m   1761\u001b[0m         timeout\u001b[38;5;241m=\u001b[39m\u001b[38;5;28mself\u001b[39m\u001b[38;5;241m.\u001b[39mtimeout) \u001b[38;5;241m==\u001b[39m TASK_PENDING)):\n\u001b[0;32m-> 1762\u001b[0m     \u001b[43mtime\u001b[49m\u001b[38;5;241;43m.\u001b[39;49m\u001b[43msleep\u001b[49m\u001b[43m(\u001b[49m\u001b[38;5;241;43m0.01\u001b[39;49m\u001b[43m)\u001b[49m\n\u001b[1;32m   1763\u001b[0m     \u001b[38;5;28;01mcontinue\u001b[39;00m\n\u001b[1;32m   1765\u001b[0m \u001b[38;5;66;03m# We need to be careful: the job list can be filling up as\u001b[39;00m\n\u001b[1;32m   1766\u001b[0m \u001b[38;5;66;03m# we empty it and Python list are not thread-safe by\u001b[39;00m\n\u001b[1;32m   1767\u001b[0m \u001b[38;5;66;03m# default hence the use of the lock\u001b[39;00m\n",
      "\u001b[0;31mKeyboardInterrupt\u001b[0m: "
     ]
    }
   ],
   "source": [
    "param_grid = {\n",
    "    'n_estimators': [50, 100, 200],  # Number of trees\n",
    "    'max_depth': [None, 10, 20, 30],  # Tree depth\n",
    "    'min_samples_split': [2, 5, 10],  # Minimum samples per split\n",
    "    'min_samples_leaf': [1, 2, 4],  # Minimum samples per leaf\n",
    "    'bootstrap': [True, False]  # Sampling technique\n",
    "}\n",
    "\n",
    "rf = RandomForestClassifier(class_weight='balanced', random_state=42)\n",
    "grid_search = GridSearchCV(rf, param_grid, cv=5, scoring='accuracy', n_jobs=-1)\n",
    "grid_search.fit(X_train, y_train)\n",
    "\n",
    "print(\"Best parameters:\", grid_search.best_params_)"
   ]
  },
  {
   "cell_type": "code",
   "execution_count": 2,
   "metadata": {},
   "outputs": [
    {
     "ename": "NameError",
     "evalue": "name 'grid_search' is not defined",
     "output_type": "error",
     "traceback": [
      "\u001b[0;31m---------------------------------------------------------------------------\u001b[0m",
      "\u001b[0;31mNameError\u001b[0m                                 Traceback (most recent call last)",
      "Cell \u001b[0;32mIn[2], line 1\u001b[0m\n\u001b[0;32m----> 1\u001b[0m best_rf \u001b[38;5;241m=\u001b[39m \u001b[43mgrid_search\u001b[49m\u001b[38;5;241m.\u001b[39mbest_estimator_\n\u001b[1;32m      3\u001b[0m y_pred \u001b[38;5;241m=\u001b[39m best_rf\u001b[38;5;241m.\u001b[39mpredict(X_test)\n",
      "\u001b[0;31mNameError\u001b[0m: name 'grid_search' is not defined"
     ]
    }
   ],
   "source": [
    "best_rf = grid_search.best_estimator_\n",
    "\n",
    "y_pred = best_rf.predict(X_test)"
   ]
  },
  {
   "cell_type": "code",
   "execution_count": 24,
   "metadata": {},
   "outputs": [
    {
     "name": "stdout",
     "output_type": "stream",
     "text": [
      "              precision    recall  f1-score   support\n",
      "\n",
      "           1       0.82      0.84      0.83      4903\n",
      "           2       0.83      0.82      0.83      4886\n",
      "           R       0.87      0.90      0.89      4936\n",
      "           W       0.88      0.84      0.86      4746\n",
      "\n",
      "    accuracy                           0.85     19471\n",
      "   macro avg       0.85      0.85      0.85     19471\n",
      "weighted avg       0.85      0.85      0.85     19471\n",
      "\n"
     ]
    }
   ],
   "source": [
    "print(classification_report(y_test, y_pred))"
   ]
  },
  {
   "cell_type": "code",
   "execution_count": 25,
   "metadata": {},
   "outputs": [
    {
     "data": {
      "image/png": "[encoded data removed]",
      "text/plain": [
       "<Figure size 1000x700 with 1 Axes>"
      ]
     },
     "metadata": {},
     "output_type": "display_data"
    }
   ],
   "source": [
    "conf_matrix = confusion_matrix(y_test, y_pred)\n",
    "\n",
    "# Plotting the confusion matrix\n",
    "plt.figure(figsize=(10, 7))  # Set the size of the plot\n",
    "sns.heatmap(conf_matrix, annot=True, fmt='g', cmap='Blues', \n",
    "            xticklabels=['1', '2', 'R', 'W'],  \n",
    "            yticklabels=['1', '2', 'R', 'W'],\n",
    "            cbar=False)  # Disable color bar\n",
    "\n",
    "plt.title('Confusion Matrix')\n",
    "plt.xlabel('Predicted Labels')\n",
    "plt.ylabel('True Labels')\n",
    "plt.show()"
   ]
  },
  {
   "cell_type": "markdown",
   "metadata": {},
   "source": [
    "## Removing Redundant Features with PCC"
   ]
  },
  {
   "cell_type": "code",
   "execution_count": null,
   "metadata": {},
   "outputs": [
    {
     "name": "stdout",
     "output_type": "stream",
     "text": [
      "Dropped Features: ['Median', 'MaxAbs', '10thQuantile', '75thQuantile']\n",
      "Remaining Features: ['Mode', 'LineLength', 'NonLinearEnergy', 'SVD_Entropy', 'ShannonEntropy', 'Average EDA per epoch', 'EDR_count', 'Storm_mark', 'Sleep_stage', 'Age', 'Gender', 'Patient_ID']\n",
      "Saved cleaned features to /Users/lamahasbini/Library/CloudStorage/OneDrive-AmericanUniversityofBeirut/FYP 2024-25 ECE/FYP_Fall_2024-2025/ML Implementation/RF_first_try/features/Cleaned_Features.csv\n"
     ]
    }
   ],
   "source": [
    "# Select only numeric columns (excluding categorical and target variable)\n",
    "numeric_features = features_df.select_dtypes(include=[np.number])\n",
    "\n",
    "# Compute Pearson correlation matrix\n",
    "corr_matrix = numeric_features.corr().abs()\n",
    "\n",
    "# Define the correlation threshold\n",
    "threshold = 0.85\n",
    "\n",
    "# Find highly correlated features\n",
    "upper = corr_matrix.where(np.triu(np.ones(corr_matrix.shape), k=1).astype(bool))\n",
    "to_drop = [column for column in upper.columns if any(upper[column] > threshold)]\n",
    "\n",
    "# Drop redundant features from the original dataframe\n",
    "features_df_reduced = features_df.drop(columns=to_drop)\n",
    "\n",
    "print(\"Dropped Features:\", to_drop)\n",
    "print(\"Remaining Features:\", features_df_reduced.columns.tolist())\n",
    "\n",
    "# Save the cleaned features\n",
    "cleaned_output_path = os.path.join(output_folder, \"Cleaned_Features.csv\")\n",
    "features_df_reduced.to_csv(cleaned_output_path, index=False)\n",
    "print(f\"Saved cleaned features to {cleaned_output_path}\")"
   ]
  },
  {
   "cell_type": "code",
   "execution_count": null,
   "metadata": {},
   "outputs": [
    {
     "data": {
      "text/plain": [
       "Mode                     0\n",
       "LineLength               0\n",
       "NonLinearEnergy          0\n",
       "SVD_Entropy              0\n",
       "ShannonEntropy           0\n",
       "Average EDA per epoch    0\n",
       "EDR_count                0\n",
       "Storm_mark               0\n",
       "Sleep_stage              0\n",
       "Age                      0\n",
       "Gender                   0\n",
       "Patient_ID               0\n",
       "dtype: int64"
      ]
     },
     "execution_count": 39,
     "metadata": {},
     "output_type": "execute_result"
    }
   ],
   "source": [
    "features_df_reduced.isnull().sum()"
   ]
  },
  {
   "cell_type": "code",
   "execution_count": null,
   "metadata": {},
   "outputs": [],
   "source": [
    "X = features_df_reduced.drop(['Sleep_stage', 'Patient_ID'], axis=1)\n",
    "y = features_df['Sleep_stage']"
   ]
  },
  {
   "cell_type": "code",
   "execution_count": null,
   "metadata": {},
   "outputs": [
    {
     "name": "stderr",
     "output_type": "stream",
     "text": [
      "/opt/anaconda3/envs/myenv/lib/python3.9/site-packages/sklearn/base.py:474: FutureWarning: `BaseEstimator._validate_data` is deprecated in 1.6 and will be removed in 1.7. Use `sklearn.utils.validation.validate_data` instead. This function becomes public and is part of the scikit-learn developer API.\n",
      "  warnings.warn(\n"
     ]
    }
   ],
   "source": [
    "if \"Gender\" in X.columns:\n",
    "    le = LabelEncoder()\n",
    "    X[\"Gender\"] = le.fit_transform(X[\"Gender\"])  # Converts 'Female' -> 0, 'Male' -> 1\n",
    "\n",
    "sm = SMOTE(random_state=42)\n",
    "X_resampled, y_resampled = sm.fit_resample(X, y)"
   ]
  },
  {
   "cell_type": "code",
   "execution_count": null,
   "metadata": {},
   "outputs": [],
   "source": [
    "X_train, X_test, y_train, y_test = train_test_split(X, y, test_size=0.2, random_state=42)"
   ]
  },
  {
   "cell_type": "code",
   "execution_count": null,
   "metadata": {},
   "outputs": [
    {
     "name": "stderr",
     "output_type": "stream",
     "text": [
      "/opt/anaconda3/envs/myenv/lib/python3.9/site-packages/joblib/externals/loky/process_executor.py:752: UserWarning: A worker stopped while some jobs were given to the executor. This can be caused by a too short worker timeout or by a memory leak.\n",
      "  warnings.warn(\n"
     ]
    },
    {
     "name": "stdout",
     "output_type": "stream",
     "text": [
      "Best parameters: {'bootstrap': False, 'max_depth': None, 'min_samples_leaf': 1, 'min_samples_split': 2, 'n_estimators': 200}\n"
     ]
    }
   ],
   "source": [
    "param_grid = {\n",
    "    'n_estimators': [50, 100, 200],  # Number of trees\n",
    "    'max_depth': [None, 10, 20, 30],  # Tree depth\n",
    "    'min_samples_split': [2, 5, 10],  # Minimum samples per split\n",
    "    'min_samples_leaf': [1, 2, 4],  # Minimum samples per leaf\n",
    "    'bootstrap': [True, False]  # Sampling technique\n",
    "}\n",
    "\n",
    "rf = RandomForestClassifier(class_weight='balanced', random_state=42)\n",
    "grid_search = GridSearchCV(rf, param_grid, cv=5, scoring='accuracy', n_jobs=-1)\n",
    "grid_search.fit(X_train, y_train)\n",
    "\n",
    "print(\"Best parameters:\", grid_search.best_params_)"
   ]
  },
  {
   "cell_type": "code",
   "execution_count": null,
   "metadata": {},
   "outputs": [],
   "source": [
    "best_rf = grid_search.best_estimator_\n",
    "\n",
    "y_pred = best_rf.predict(X_test)"
   ]
  },
  {
   "cell_type": "code",
   "execution_count": null,
   "metadata": {},
   "outputs": [
    {
     "name": "stdout",
     "output_type": "stream",
     "text": [
      "              precision    recall  f1-score   support\n",
      "\n",
      "           1       0.34      0.13      0.19       628\n",
      "           2       0.80      0.93      0.86      4935\n",
      "           R       0.81      0.77      0.79      2013\n",
      "           W       0.75      0.56      0.64      1351\n",
      "\n",
      "    accuracy                           0.78      8927\n",
      "   macro avg       0.67      0.60      0.62      8927\n",
      "weighted avg       0.76      0.78      0.77      8927\n",
      "\n"
     ]
    }
   ],
   "source": [
    "print(classification_report(y_test, y_pred))"
   ]
  },
  {
   "cell_type": "code",
   "execution_count": null,
   "metadata": {},
   "outputs": [
    {
     "data": {
      "image/png": "[encoded data removed]",
      "text/plain": [
       "<Figure size 1000x700 with 1 Axes>"
      ]
     },
     "metadata": {},
     "output_type": "display_data"
    }
   ],
   "source": [
    "conf_matrix = confusion_matrix(y_test, y_pred)\n",
    "\n",
    "# Plotting the confusion matrix\n",
    "plt.figure(figsize=(10, 7))  # Set the size of the plot\n",
    "sns.heatmap(conf_matrix, annot=True, fmt='g', cmap='Blues', \n",
    "            xticklabels=['1', '2', 'R', 'W'],  \n",
    "            yticklabels=['1', '2', 'R', 'W'],\n",
    "            cbar=False)  # Disable color bar\n",
    "\n",
    "plt.title('Confusion Matrix')\n",
    "plt.xlabel('Predicted Labels')\n",
    "plt.ylabel('True Labels')\n",
    "plt.show()"
   ]
  }
 ],
 "metadata": {
  "kernelspec": {
   "display_name": "myenv",
   "language": "python",
   "name": "python3"
  },
  "language_info": {
   "codemirror_mode": {
    "name": "ipython",
    "version": 3
   },
   "file_extension": ".py",
   "mimetype": "text/x-python",
   "name": "python",
   "nbconvert_exporter": "python",
   "pygments_lexer": "ipython3",
   "version": "3.9.16"
  }
 },
 "nbformat": 4,
 "nbformat_minor": 2
}
